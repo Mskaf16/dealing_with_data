{
  "nbformat": 4,
  "nbformat_minor": 0,
  "metadata": {
    "kernelspec": {
      "display_name": "Python 3",
      "language": "python",
      "name": "python3"
    },
    "language_info": {
      "codemirror_mode": {
        "name": "ipython",
        "version": 3
      },
      "file_extension": ".py",
      "mimetype": "text/x-python",
      "name": "python",
      "nbconvert_exporter": "python",
      "pygments_lexer": "ipython3",
      "version": "3.6.6"
    },
    "colab": {
      "name": "E-XPath_Tutorial.ipynb",
      "provenance": []
    }
  },
  "cells": [
    {
      "cell_type": "markdown",
      "metadata": {
        "id": "wloz7ZeXNusB"
      },
      "source": [
        "This is a copy of the [XPath tutorial from W3Schools](http://www.w3schools.com/xpath/xpath_syntax.asp)"
      ]
    },
    {
      "cell_type": "markdown",
      "metadata": {
        "id": "172D0-HeNusC"
      },
      "source": [
        "### XPath Terminology\n",
        "\n",
        "#### Nodes\n",
        "\n",
        "\n",
        "XML documents are treated as trees of nodes. The topmost element of the tree is called the root element. Look at the following XML document that has `<bookstore>` as the root element:"
      ]
    },
    {
      "cell_type": "markdown",
      "metadata": {
        "id": "NA1Ay2mtNusD"
      },
      "source": [
        "```xml\n",
        "<bookstore>\n",
        "  <book>\n",
        "    <title lang=\"en\">Harry Potter</title>\n",
        "    <author>J K. Rowling</author>\n",
        "    <year>2005</year>\n",
        "    <price>29.99</price>\n",
        "  </book>\n",
        "</bookstore>\n",
        "```"
      ]
    },
    {
      "cell_type": "markdown",
      "metadata": {
        "id": "1bAyqoukNusD"
      },
      "source": [
        "There are seven kinds of nodes: element, attribute, text, namespace, processing-instruction, comment, and document nodes. In our class, we will not deal with namespace, processing-instruction, comment, but it is useful to be aware of those.\n",
        "\n",
        "Example of nodes in the XML document above:\n",
        "\n"
      ]
    },
    {
      "cell_type": "markdown",
      "metadata": {
        "id": "SN8SvTfkNusE"
      },
      "source": [
        "```xml\n",
        "<bookstore> (root element node)\n",
        "\n",
        "<author>J K. Rowling</author> (element node)\n",
        "\n",
        "lang=\"en\" (attribute node)\n",
        "```\n"
      ]
    },
    {
      "cell_type": "markdown",
      "metadata": {
        "id": "zVFoFjIoNusF"
      },
      "source": [
        "### Relationship of Nodes\n",
        "\n",
        "#### Parent\n",
        "\n",
        "Each element and attribute has one parent.\n",
        "\n",
        "In the following example; the book element is the parent of the title, author, year, and price:"
      ]
    },
    {
      "cell_type": "markdown",
      "metadata": {
        "id": "1wnhgaBNNusG"
      },
      "source": [
        "```xml\n",
        "<book>\n",
        "  <title lang=\"en\">Harry Potter</title>\n",
        "  <author>J K. Rowling</author>\n",
        "  <year>2005</year>\n",
        "  <price>29.99</price>\n",
        "</book>\n",
        "```"
      ]
    },
    {
      "cell_type": "markdown",
      "metadata": {
        "id": "tx-kSY5VNusG"
      },
      "source": [
        "#### Children\n",
        "\n",
        "Element nodes may have zero, one or more children.\n",
        "\n",
        "In the following example; the title, author, year, and price elements are all children of the book element:"
      ]
    },
    {
      "cell_type": "markdown",
      "metadata": {
        "id": "w6oWwh36NusH"
      },
      "source": [
        "```xml\n",
        "<book>\n",
        "  <title lang=\"en\">Harry Potter</title>\n",
        "  <author>J K. Rowling</author>\n",
        "  <year>2005</year>\n",
        "  <price>29.99</price>\n",
        "</book>\n",
        "```"
      ]
    },
    {
      "cell_type": "markdown",
      "metadata": {
        "id": "qJeSkrwyNusH"
      },
      "source": [
        "#### Siblings\n",
        "\n",
        "Nodes that have the same parent.\n",
        "\n",
        "In the following example; the title, author, year, and price elements are all siblings:"
      ]
    },
    {
      "cell_type": "markdown",
      "metadata": {
        "id": "_eJK32PlNusI"
      },
      "source": [
        "```xml\n",
        "<book>\n",
        "  <title lang=\"en\">Harry Potter</title>\n",
        "  <author>J K. Rowling</author>\n",
        "  <year>2005</year>\n",
        "  <price>29.99</price>\n",
        "</book>\n",
        "```"
      ]
    },
    {
      "cell_type": "markdown",
      "metadata": {
        "id": "tUMA0WOXNusI"
      },
      "source": [
        "#### Ancestors\n",
        "\n",
        "A node's parent, parent's parent, etc.\n",
        "\n",
        "In the following example; the ancestors of the title element are the book element and the bookstore element:"
      ]
    },
    {
      "cell_type": "markdown",
      "metadata": {
        "id": "bEjER5wdNusJ"
      },
      "source": [
        "```xml\n",
        "<bookstore>\n",
        "  <book>\n",
        "    <title lang=\"en\">Harry Potter</title>\n",
        "    <author>J K. Rowling</author>\n",
        "    <year>2005</year>\n",
        "    <price>29.99</price>\n",
        "  </book>\n",
        "</bookstore>\n",
        "```"
      ]
    },
    {
      "cell_type": "markdown",
      "metadata": {
        "id": "G5WqZKC1NusK"
      },
      "source": [
        "#### Descendants\n",
        "\n",
        "A node's children, children's children, etc.\n",
        "\n",
        "In the following example; descendants of the bookstore element are the book, title, author, year, and price elements:\n",
        "\n"
      ]
    },
    {
      "cell_type": "markdown",
      "metadata": {
        "id": "GPBZdkY3NusK"
      },
      "source": [
        "```xml\n",
        "<bookstore>\n",
        "  <book>\n",
        "    <title>Harry Potter</title>\n",
        "    <author>J K. Rowling</author>\n",
        "    <year>2005</year>\n",
        "    <price>29.99</price>\n",
        "  </book>\n",
        "</bookstore>\n",
        "```"
      ]
    },
    {
      "cell_type": "markdown",
      "metadata": {
        "id": "m691CfYnNusL"
      },
      "source": [
        "## XPath Syntax\n",
        "\n",
        "XPath uses path expressions to select nodes or node-sets in an XML document. The node is selected by following a path or steps.\n",
        "\n",
        "### The XML Example Document\n",
        "We will use the following XML document in the examples below."
      ]
    },
    {
      "cell_type": "markdown",
      "metadata": {
        "id": "6OHcnGYANusL"
      },
      "source": [
        "```xml\n",
        "<bookstore>\n",
        "\n",
        "    <book>\n",
        "      <title lang=\"en\">Harry Potter</title>\n",
        "      <price>29.99</price>\n",
        "    </book>\n",
        "\n",
        "    <book>\n",
        "      <title lang=\"fr\">Learning XML</title>\n",
        "      <price>39.95</price>\n",
        "    </book>\n",
        "\n",
        "</bookstore>\n",
        "```"
      ]
    },
    {
      "cell_type": "markdown",
      "metadata": {
        "id": "8AeIu9NmNusM"
      },
      "source": [
        "### Selecting Nodes\n",
        "\n",
        "XPath uses path expressions to select nodes in an XML document. The node is selected by following a path or steps. The most useful path expressions are listed below:"
      ]
    },
    {
      "cell_type": "markdown",
      "metadata": {
        "id": "jtUDa9ItNusM"
      },
      "source": [
        "| Expression | Description                                                                                           |\n",
        "|------------|-------------------------------------------------------------------------------------------------------|\n",
        "| nodename   | Selects all nodes with the name \"nodename\"                                                            |\n",
        "| /          | Selects from the root node                                                                            |\n",
        "| //         | Selects nodes in the document from the current node that match the selection no matter where they are |\n",
        "| .          | Selects the current node                                                                              |\n",
        "| ..         | Selects the parent of the current node                                                                |\n",
        "| @          | Selects attributes                                                                                    |"
      ]
    },
    {
      "cell_type": "markdown",
      "metadata": {
        "id": "YUS5YmeDNusN"
      },
      "source": [
        "In the table below we have listed some path expressions and the result of the expressions:"
      ]
    },
    {
      "cell_type": "markdown",
      "metadata": {
        "id": "sxtuckU3NusN"
      },
      "source": [
        "| Path Expression | Result |\n",
        "|-----------------|------------------------------------------------------------------------------------------------------------------------------------|\n",
        "| bookstore | Selects all nodes with the name \"bookstore\" |\n",
        "| /bookstore | Selects the root element bookstoreNote: If the path starts with a slash ( / ) it always represents an absolute path to an element! |\n",
        "| bookstore/book | Selects all book elements that are children of bookstore |\n",
        "| //book | Selects all book elements no matter where they are in the document |\n",
        "| bookstore//book | Selects all book elements that are descendant of the bookstore element, no matter where they are under the bookstore element |\n",
        "| //@lang | Selects all attributes that are named lang |"
      ]
    },
    {
      "cell_type": "markdown",
      "metadata": {
        "id": "X3EfM5WkNusO"
      },
      "source": [
        "### Predicates\n",
        "\n",
        "Predicates are used to find a specific node or a node that contains a specific value.\n",
        "\n",
        "Predicates are always embedded in square brackets.\n",
        "\n",
        "In the table below we have listed some path expressions with predicates and the result of the expressions:\n",
        "\n"
      ]
    },
    {
      "cell_type": "markdown",
      "metadata": {
        "id": "JL_ifeqhNusP"
      },
      "source": [
        "| Path Expression                    \t| Result                                                                                                                                 \t|\n",
        "|------------------------------------\t|----------------------------------------------------------------------------------------------------------------------------------------\t|\n",
        "| /bookstore/book[1]                 \t| Selects the first book element that is the child of the bookstore element.                                                             \t|\n",
        "| /bookstore/book[last()]            \t| Selects the last book element that is the child of the bookstore element                                                               \t|\n",
        "| /bookstore/book[last()-1]          \t| Selects the last but one book element that is the child of the bookstore element                                                       \t|\n",
        "| /bookstore/book[position()<3]      \t| Selects the first two book elements that are children of the bookstore element                                                         \t|\n",
        "| //title[@lang]                     \t| Selects all the title elements that have an attribute named lang                                                                       \t|\n",
        "| //title[@lang='en']                \t| Selects all the title elements that have an attribute named lang with a value of 'en'                                                  \t|\n",
        "| //title[contains(@lang,'en')]                \t| Selects all the title elements that have an attribute named lang with a value that contains the string 'en'                                                  \t|\n",
        "| //title[re:match(text(), 'H.\\*P.\\*')]                \t| Selects all the title elements that match the regular expression `H.*P.*`                                               \t|\n",
        "| /bookstore/book[price>35.00]       \t| Selects all the book elements of the bookstore element that have a price element with a value greater than 35.00                       \t|\n",
        "| /bookstore/book[price>35.00]/title \t| Selects all the title elements of the book elements of the bookstore element that have a price element with a value greater than 35.00 \t|"
      ]
    },
    {
      "cell_type": "markdown",
      "metadata": {
        "id": "0Ns9uYAONusP"
      },
      "source": [
        "## XPath Examples in Python"
      ]
    },
    {
      "cell_type": "markdown",
      "metadata": {
        "id": "hvdUDuqtNusQ"
      },
      "source": [
        "Let's create first our example file:"
      ]
    },
    {
      "cell_type": "code",
      "metadata": {
        "id": "WniJqgntNusQ",
        "outputId": "82ed6813-5565-46e3-cc66-b9d85b429a0a"
      },
      "source": [
        "%%file books.xml\n",
        "<?xml version=\"1.0\"?>\n",
        "\n",
        "<bookstore>\n",
        "\n",
        "<book category=\"COOKING\">\n",
        "  <title lang=\"it\">Everyday Italian</title>\n",
        "  <author>Giada De Laurentiis</author>\n",
        "  <year>2005</year>\n",
        "  <price>30.00</price>\n",
        "</book>\n",
        "\n",
        "<book category=\"CHILDREN\">\n",
        "  <title lang=\"en\">Harry Potter</title>\n",
        "  <author>J K. Rowling</author>\n",
        "  <year>2005</year>\n",
        "  <price>29.99</price>\n",
        "</book>\n",
        "\n",
        "<book category=\"WEB\">\n",
        "  <title lang=\"en\">XQuery Kick Start</title>\n",
        "  <author>James McGovern</author>\n",
        "  <author>Per Bothner</author>\n",
        "  <author>Kurt Cagle</author>\n",
        "  <author>James Linn</author>\n",
        "  <author>Vaidyanathan Nagarajan</author>\n",
        "  <year>2003</year>\n",
        "  <price>49.99</price>\n",
        "</book>\n",
        "\n",
        "<book category=\"WEB\">\n",
        "  <title lang=\"en\">Learning XML</title>\n",
        "  <author>Erik T. Ray</author>\n",
        "  <year>2003</year>\n",
        "  <price>39.95</price>\n",
        "</book>\n",
        "\n",
        "</bookstore>"
      ],
      "execution_count": null,
      "outputs": [
        {
          "output_type": "stream",
          "text": [
            "Overwriting books.xml\n"
          ],
          "name": "stdout"
        }
      ]
    },
    {
      "cell_type": "markdown",
      "metadata": {
        "id": "KVnBEtqsNusV"
      },
      "source": [
        "We will now read the file in Python and create an XML document using the lxml package."
      ]
    },
    {
      "cell_type": "code",
      "metadata": {
        "id": "sB5wQ6hnNusW"
      },
      "source": [
        "from lxml import etree\n",
        "# Read the file\n",
        "filecontent = open(\"books.xml\", \"r\").read()\n",
        "doc  = etree.XML(filecontent)"
      ],
      "execution_count": null,
      "outputs": []
    },
    {
      "cell_type": "markdown",
      "metadata": {
        "id": "aplQXUyCNusa"
      },
      "source": [
        "Now let's get all the book nodes"
      ]
    },
    {
      "cell_type": "code",
      "metadata": {
        "id": "DO-ABGWoNusb"
      },
      "source": [
        "result = doc.xpath(\"//book\")"
      ],
      "execution_count": null,
      "outputs": []
    },
    {
      "cell_type": "code",
      "metadata": {
        "id": "klqNbX1ZNuse",
        "outputId": "cb509973-7cd2-4bca-e2a3-9f58888d8188"
      },
      "source": [
        "result"
      ],
      "execution_count": null,
      "outputs": [
        {
          "output_type": "execute_result",
          "data": {
            "text/plain": [
              "[<Element book at 0x7fcd4a7f3548>,\n",
              " <Element book at 0x7fcd4a7f34c8>,\n",
              " <Element book at 0x7fcd4a56b8c8>,\n",
              " <Element book at 0x7fcd4a56bb88>]"
            ]
          },
          "metadata": {
            "tags": []
          },
          "execution_count": 15
        }
      ]
    },
    {
      "cell_type": "code",
      "metadata": {
        "id": "JJ0ASKXRNush",
        "outputId": "fea6a627-6b5d-4c15-ed98-361dd397025d"
      },
      "source": [
        "len(result)"
      ],
      "execution_count": null,
      "outputs": [
        {
          "output_type": "execute_result",
          "data": {
            "text/plain": [
              "4"
            ]
          },
          "metadata": {
            "tags": []
          },
          "execution_count": 4
        }
      ]
    },
    {
      "cell_type": "markdown",
      "metadata": {
        "id": "FG2vxZDzNusl"
      },
      "source": [
        "And all the author nodes"
      ]
    },
    {
      "cell_type": "code",
      "metadata": {
        "id": "MmZoibZINusl",
        "outputId": "77848a2d-f557-4845-9e25-4539df09595e"
      },
      "source": [
        "result = doc.xpath(\"//author\")\n",
        "result"
      ],
      "execution_count": null,
      "outputs": [
        {
          "output_type": "execute_result",
          "data": {
            "text/plain": [
              "[<Element author at 0x7fcd4a56b648>,\n",
              " <Element author at 0x7fcd4a56bcc8>,\n",
              " <Element author at 0x7fcd4a56bd08>,\n",
              " <Element author at 0x7fcd4a56bd48>,\n",
              " <Element author at 0x7fcd4a56bd88>,\n",
              " <Element author at 0x7fcd4a56be08>,\n",
              " <Element author at 0x7fcd4a56be48>,\n",
              " <Element author at 0x7fcd4a56be88>]"
            ]
          },
          "metadata": {
            "tags": []
          },
          "execution_count": 17
        }
      ]
    },
    {
      "cell_type": "code",
      "metadata": {
        "id": "M2Zb9-g2Nuso",
        "outputId": "98f990f4-dba6-4913-a955-32cb19802c87"
      },
      "source": [
        "len(result)"
      ],
      "execution_count": null,
      "outputs": [
        {
          "output_type": "execute_result",
          "data": {
            "text/plain": [
              "8"
            ]
          },
          "metadata": {
            "tags": []
          },
          "execution_count": 18
        }
      ]
    },
    {
      "cell_type": "markdown",
      "metadata": {
        "id": "0RcnhWTeNusr"
      },
      "source": [
        "We can use the `get` command to get an attribute:"
      ]
    },
    {
      "cell_type": "code",
      "metadata": {
        "id": "ykKnmhcJNuss",
        "outputId": "001965b4-db91-486b-b98d-149bbe4ce3d4"
      },
      "source": [
        "result = doc.xpath(\"//book\")\n",
        "for node in result:\n",
        "    print(node.get(\"category\"))"
      ],
      "execution_count": null,
      "outputs": [
        {
          "output_type": "stream",
          "text": [
            "COOKING\n",
            "CHILDREN\n",
            "WEB\n",
            "WEB\n"
          ],
          "name": "stdout"
        }
      ]
    },
    {
      "cell_type": "code",
      "metadata": {
        "id": "jrzes5GwNusv",
        "outputId": "345c5438-8707-4534-c80d-8fcf1109fad7"
      },
      "source": [
        "categories = [r.get(\"category\") for r in result]\n",
        "categories"
      ],
      "execution_count": null,
      "outputs": [
        {
          "output_type": "execute_result",
          "data": {
            "text/plain": [
              "['COOKING', 'CHILDREN', 'WEB', 'WEB']"
            ]
          },
          "metadata": {
            "tags": []
          },
          "execution_count": 22
        }
      ]
    },
    {
      "cell_type": "code",
      "metadata": {
        "id": "4YBfYrhTNusz",
        "outputId": "5992a83f-5097-4f0b-d621-3b477e710820"
      },
      "source": [
        "result = doc.xpath(\"//book/@category\")\n",
        "result"
      ],
      "execution_count": null,
      "outputs": [
        {
          "output_type": "execute_result",
          "data": {
            "text/plain": [
              "['COOKING', 'CHILDREN', 'WEB', 'WEB']"
            ]
          },
          "metadata": {
            "tags": []
          },
          "execution_count": 20
        }
      ]
    },
    {
      "cell_type": "markdown",
      "metadata": {
        "id": "kKjxmQW1Nus4"
      },
      "source": [
        "And we can use the `.text` method to get the text of the node"
      ]
    },
    {
      "cell_type": "code",
      "metadata": {
        "id": "1z4mywSHNus4",
        "outputId": "a899c8c1-09f0-4daa-96d0-29a1de8885cb"
      },
      "source": [
        "# Find all the \"title\" nodes that are immediate children\n",
        "# of a \"book\" node\n",
        "result = doc.xpath(\"//book/title\")\n",
        "# For each such node print the text \n",
        "# titles = [r.text for r in result]\n",
        "for r in result:\n",
        "    print(r.text)\n",
        "titles"
      ],
      "execution_count": null,
      "outputs": [
        {
          "output_type": "stream",
          "text": [
            "Everyday Italian\n",
            "Harry Potter\n",
            "XQuery Kick Start\n",
            "Learning XML\n"
          ],
          "name": "stdout"
        },
        {
          "output_type": "execute_result",
          "data": {
            "text/plain": [
              "['Harry Potter', 'XQuery Kick Start', 'Learning XML']"
            ]
          },
          "metadata": {
            "tags": []
          },
          "execution_count": 25
        }
      ]
    },
    {
      "cell_type": "code",
      "metadata": {
        "id": "DXUEPDHtNus7",
        "outputId": "b4cd0bfd-95e3-4818-aac3-4bcc1be64b98"
      },
      "source": [
        "# Find all the author nodes, that are children of a book node\n",
        "result = doc.xpath(\"//book/author\")\n",
        "# Print the text of the author nodes\n",
        "authors = [r.text for r in result]\n",
        "authors"
      ],
      "execution_count": null,
      "outputs": [
        {
          "output_type": "execute_result",
          "data": {
            "text/plain": [
              "['Giada De Laurentiis',\n",
              " 'J K. Rowling',\n",
              " 'James McGovern',\n",
              " 'Per Bothner',\n",
              " 'Kurt Cagle',\n",
              " 'James Linn',\n",
              " 'Vaidyanathan Nagarajan',\n",
              " 'Erik T. Ray']"
            ]
          },
          "metadata": {
            "tags": []
          },
          "execution_count": 26
        }
      ]
    },
    {
      "cell_type": "code",
      "metadata": {
        "id": "pR3T_xnhNus9",
        "outputId": "561b3d9f-dd12-4b11-b611-d7279952bb76"
      },
      "source": [
        "result = doc.xpath(\"//book/price\")\n",
        "prices = [r.text for r in result]\n",
        "prices"
      ],
      "execution_count": null,
      "outputs": [
        {
          "output_type": "execute_result",
          "data": {
            "text/plain": [
              "['30.00', '29.99', '49.99', '39.95']"
            ]
          },
          "metadata": {
            "tags": []
          },
          "execution_count": 27
        }
      ]
    },
    {
      "cell_type": "code",
      "metadata": {
        "id": "cpw0LiTQNutA",
        "outputId": "5143179c-3739-4269-d4e5-64a635cf835e"
      },
      "source": [
        "# Find all the title nodes, that have a parent called book\n",
        "# and the title node has a lang attribute equal to 'en'\n",
        "result = doc.xpath(\"//book/title[@lang='en']\")\n",
        "titles = [r.text for r in result]\n",
        "titles"
      ],
      "execution_count": null,
      "outputs": [
        {
          "output_type": "execute_result",
          "data": {
            "text/plain": [
              "['Harry Potter', 'XQuery Kick Start', 'Learning XML']"
            ]
          },
          "metadata": {
            "tags": []
          },
          "execution_count": 28
        }
      ]
    },
    {
      "cell_type": "markdown",
      "metadata": {
        "id": "lGMRApViNutC"
      },
      "source": [
        "Here is a more advanced command, where we use two nested list compehensions to list the authors of a book. \n",
        "_Notice that we use the `.` marker in the nested loop, to indicate that we are going to only look under the current node (`book`) and not in the whole document._"
      ]
    },
    {
      "cell_type": "code",
      "metadata": {
        "id": "UHLgQEANNutC"
      },
      "source": [
        "books = doc.xpath(\"//book\")\n",
        "authors = [[author.text for author in book.xpath(\".//author\")] for book in books]\n",
        "authors"
      ],
      "execution_count": null,
      "outputs": []
    },
    {
      "cell_type": "markdown",
      "metadata": {
        "id": "64WvxxDmNutE"
      },
      "source": [
        "#### Examples of more XPath queries"
      ]
    },
    {
      "cell_type": "code",
      "metadata": {
        "id": "WkVsGYHFNutE"
      },
      "source": [
        "result = doc.xpath(\"/bookstore/book[1]/title\")\n",
        "titles = [r.text for r in result]\n",
        "titles"
      ],
      "execution_count": null,
      "outputs": []
    },
    {
      "cell_type": "code",
      "metadata": {
        "id": "lru8CXhKNutG"
      },
      "source": [
        "result = doc.xpath(\"/bookstore/book/price\")\n",
        "price = [r.text for r in result]\n",
        "price"
      ],
      "execution_count": null,
      "outputs": []
    },
    {
      "cell_type": "code",
      "metadata": {
        "id": "RIBHyFnlNutI"
      },
      "source": [
        "result = doc.xpath(\"/bookstore/book[price>35]/price\")\n",
        "price = [r.text for r in result]\n",
        "price"
      ],
      "execution_count": null,
      "outputs": []
    },
    {
      "cell_type": "code",
      "metadata": {
        "id": "2wXrpFBbNutK"
      },
      "source": [
        "result = doc.xpath(\"/bookstore/book[price>35]/title\")\n",
        "titles = [r.text for r in result]\n",
        "titles"
      ],
      "execution_count": null,
      "outputs": []
    },
    {
      "cell_type": "code",
      "metadata": {
        "id": "p9Gly6MTNutM"
      },
      "source": [
        "result = doc.xpath(\"//title[contains(text(), 'XML')]\")\n",
        "titles = [r.text for r in result]\n",
        "titles"
      ],
      "execution_count": null,
      "outputs": []
    },
    {
      "cell_type": "code",
      "metadata": {
        "id": "l-iDS0cfNutP"
      },
      "source": [
        "result = doc.xpath(\"//book[contains(@category, 'C')]/title\")\n",
        "titles = [r.text for r in result]\n",
        "titles"
      ],
      "execution_count": null,
      "outputs": []
    },
    {
      "cell_type": "code",
      "metadata": {
        "id": "7nZSTW5ENutR"
      },
      "source": [
        "result = doc.xpath(\"//title[re:match(text(), 'H.*P.*')]\", namespaces={'re': \"http://exslt.org/regular-expressions\"})\n",
        "titles = [r.text for r in result]\n",
        "titles"
      ],
      "execution_count": null,
      "outputs": []
    },
    {
      "cell_type": "code",
      "metadata": {
        "id": "bVUEO5wgNutT"
      },
      "source": [
        ""
      ],
      "execution_count": null,
      "outputs": []
    }
  ]
}